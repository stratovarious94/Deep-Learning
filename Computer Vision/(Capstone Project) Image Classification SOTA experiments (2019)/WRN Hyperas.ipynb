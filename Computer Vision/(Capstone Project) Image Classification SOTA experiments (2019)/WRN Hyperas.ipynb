{
 "cells": [
  {
   "cell_type": "code",
   "execution_count": 1,
   "metadata": {},
   "outputs": [
    {
     "name": "stderr",
     "output_type": "stream",
     "text": [
      "C:\\Users\\Infernal\\AppData\\Local\\Continuum\\anaconda3\\envs\\tensorflow\\lib\\site-packages\\h5py\\__init__.py:36: FutureWarning: Conversion of the second argument of issubdtype from `float` to `np.floating` is deprecated. In future, it will be treated as `np.float64 == np.dtype(float).type`.\n",
      "  from ._conv import register_converters as _register_converters\n",
      "Using TensorFlow backend.\n"
     ]
    }
   ],
   "source": [
    "from __future__ import print_function\n",
    "import pandas as pd\n",
    "import numpy as np\n",
    "\n",
    "## load the libraries \n",
    "import keras.backend as K\n",
    "from keras.models import Model\n",
    "from keras.layers import Dense, Input, Conv2D, LSTM, MaxPool2D, UpSampling2D, Flatten, Dropout, concatenate,GlobalAveragePooling2D, AveragePooling2D, Activation, Add, LeakyReLU, PReLU, ELU, ReLU, ThresholdedReLU\n",
    "from keras.layers.normalization import BatchNormalization\n",
    "from keras.activations import relu\n",
    "from keras.callbacks import EarlyStopping, LearningRateScheduler, ModelCheckpoint, ReduceLROnPlateau\n",
    "from keras.utils import to_categorical\n",
    "from keras.regularizers import l2\n",
    "from keras.models import Model\n",
    "from keras.initializers import glorot_uniform, Constant\n",
    "from keras import optimizers\n",
    "from keras.preprocessing.image import img_to_array, array_to_img\n",
    "from keras.optimizers import Optimizer\n",
    "from keras.utils.generic_utils import get_custom_objects\n",
    "from keras_tqdm import TQDMNotebookCallback\n",
    "\n",
    "from sklearn.model_selection import train_test_split\n",
    "from sklearn.metrics import accuracy_score\n",
    "\n",
    "from hyperopt import Trials, STATUS_OK, tpe\n",
    "\n",
    "import gc;\n",
    "\n",
    "from hyperas import optim\n",
    "from hyperas.distributions import choice, uniform, lognormal, normal, loguniform\n",
    "\n",
    "from hyperas.distributions import uniform"
   ]
  },
  {
   "cell_type": "code",
   "execution_count": 2,
   "metadata": {},
   "outputs": [],
   "source": [
    "def data():\n",
    "    nb_classes = 10\n",
    "    # the data, shuffled and split between train and test sets\n",
    "    train = pd.read_csv(\"data/fashion/fashion-mnist_train.csv\")\n",
    "    test = pd.read_csv(\"data/fashion/fashion-mnist_test.csv\")\n",
    "\n",
    "    train_x = train[list(train.columns)[1:]].values\n",
    "    train_y = train['label'].values\n",
    "    test_x = test[list(test.columns)[1:]].values\n",
    "    test_y = test['label'].values\n",
    "\n",
    "    train_x=train_x.reshape(60000,28,28,1)\n",
    "    test_x=test_x.reshape(10000,28,28,1)\n",
    "    \n",
    "    train_y = to_categorical(train_y, num_classes = 10)\n",
    "    test_y = to_categorical(test_y, num_classes = 10)\n",
    "    \n",
    "    train_x, val_x, train_y, val_y = train_test_split(train_x, train_y, test_size=int(train_x.shape[0]/5))\n",
    "\n",
    "\n",
    "    train_x = train_x / 255\n",
    "    val_x = val_x / 255\n",
    "    test_x = test_x / 255\n",
    "\n",
    "    return train_x, train_y, val_x, val_y, test_x, test_y"
   ]
  },
  {
   "cell_type": "code",
   "execution_count": 3,
   "metadata": {},
   "outputs": [],
   "source": [
    "def main_block(x, filters, n, strides, activation, initializer, dropout):\n",
    "    # Normal part\n",
    "    x_res = Conv2D(filters, (3,3), strides=strides, padding=\"same\", kernel_initializer=initializer, kernel_regularizer=l2(5e-4))(x)\n",
    "    x_res = BatchNormalization()(x_res)\n",
    "    x_res = activation()(x_res)\n",
    "    x_res = Conv2D(filters, (3,3), padding=\"same\", kernel_initializer=initializer)(x_res)\n",
    "    # Alternative branch\n",
    "    x = Conv2D(filters, (1,1), strides=strides)(x)\n",
    "    # Merge Branches\n",
    "    x = Add()([x_res, x])\n",
    "\n",
    "    for i in range(n-1):\n",
    "        # Residual conection\n",
    "        x_res = BatchNormalization()(x)\n",
    "        x_res = activation()(x_res)\n",
    "        x_res = Conv2D(filters, (3,3), padding=\"same\", kernel_initializer=initializer)(x_res)\n",
    "        # Apply dropout if given\n",
    "        if dropout: x_res = Dropout(rate=dropout)(x)\n",
    "        # Second part\n",
    "        x_res = BatchNormalization()(x_res)\n",
    "        x_res = activation()(x_res)\n",
    "        x_res = Conv2D(filters, (3,3), padding=\"same\", kernel_initializer=initializer)(x_res)\n",
    "        # Merge branches\n",
    "        x = Add()([x, x_res])\n",
    "\n",
    "    # Inter block part\n",
    "    x = BatchNormalization()(x)\n",
    "    x = activation()(x)\n",
    "    return x\n",
    "\n",
    "def build_model(input_dims, output_dim, n, k, activation, initializer, dropout=None):\n",
    "    assert (n-4)%6 == 0\n",
    "    assert k%2 == 0\n",
    "    n = (n-4)//6 \n",
    "    \n",
    "    #1)Input\n",
    "    inputs = Input(shape=(input_dims))\n",
    "\n",
    "    #2)Initial part\n",
    "    x = Conv2D(16, (3,3), padding=\"same\", kernel_initializer=initializer)(inputs)\n",
    "    x = BatchNormalization()(x)\n",
    "    x = activation()(x)\n",
    "\n",
    "    #3)wide blocks (can be made into for loop)\n",
    "    x = main_block(x, 16*k, n, (1,1), activation, initializer, dropout)\n",
    "    x = main_block(x, 32*k, n, (2,2), activation, initializer, dropout)\n",
    "    x = main_block(x, 64*k, n, (2,2), activation, initializer, dropout)\n",
    "\n",
    "    #4)Final part\n",
    "    x = AveragePooling2D((7,7))(x)\n",
    "    x = Flatten()(x)\n",
    "    outputs = Dense(output_dim, activation=\"softmax\")(x)\n",
    "\n",
    "    model = Model(inputs=inputs, outputs=outputs)\n",
    "    return model"
   ]
  },
  {
   "cell_type": "code",
   "execution_count": 4,
   "metadata": {},
   "outputs": [],
   "source": [
    "def model(train_x, train_y, val_x, val_y, test_x, test_y):\n",
    "    architecture={{choice([(22,8), (28,10), (40,4)])}}\n",
    "    activation={{choice([ReLU, LeakyReLU, PReLU, ELU, ThresholdedReLU])}}\n",
    "    initializer={{choice(['he_uniform', 'he_normal', 'glorot_uniform', 'glorot_normal'])}}\n",
    "    dropout={{uniform(0, 0.5)}}\n",
    "    \n",
    "    learning_rate=10**{{uniform(-3, 0)}}\n",
    "    opt={{choice([optimizers.Adam, optimizers.RMSprop, optimizers.Adadelta, optimizers.Nadam, optimizers.Adamax])}}\n",
    "    if architecture[0]==28:\n",
    "        batch={{choice([32, 64])}}\n",
    "    else:\n",
    "        batch={{choice([32, 64, 128])}}\n",
    "    \n",
    "    \n",
    "    print(\"\"\"\n",
    "          Hyperparameters Used \\n\\n\\n\n",
    "          -----------------------------\n",
    "          model: ({},{})\n",
    "          activation: {}\n",
    "          initializer: {}\n",
    "          dropout: {}\n",
    "          learning rate: {}\n",
    "          optimizer: {}\n",
    "          batch size: {}\n",
    "          -----------------------------\n",
    "          \"\"\"\n",
    "          .format(architecture[0], architecture[1], activation, initializer, dropout, learning_rate, opt, batch))\n",
    "    \n",
    "    model = build_model((28,28,1), 10, architecture[0], architecture[1], activation, initializer, dropout)\n",
    "    \n",
    "    callbacks = [EarlyStopping(monitor='val_loss', patience=5, verbose=0),\n",
    "                 ModelCheckpoint(filepath='best_model.h5', monitor='val_loss', save_best_only=True, verbose=0),\n",
    "                 ReduceLROnPlateau(monitor='val_acc', patience=3, verbose=1, factor=0.5,min_lr=0.00001),\n",
    "                 TQDMNotebookCallback()]\n",
    "\n",
    "    model.compile(optimizer=opt(lr=learning_rate), loss='categorical_crossentropy', metrics=['accuracy'])\n",
    "    model.fit(train_x, train_y, validation_data = (val_x, val_y), callbacks=callbacks, batch_size=batch, epochs=1, verbose=0)\n",
    "\n",
    "    score, acc = model.evaluate(test_x, test_y, verbose=0)\n",
    "    \n",
    "    y_val_pred = model.predict(val_x)\n",
    "    print(\"Validation accuracy: \", accuracy_score(np.argmax(val_y, axis=1), np.argmax(y_val_pred, axis=1)))\n",
    "    \n",
    "    y_test_pred = model.predict(test_x)\n",
    "    print(\"Test accuracy: \", accuracy_score(np.argmax(test_y, axis=1), np.argmax(y_test_pred, axis=1)), \"\\n\\n\")\n",
    "    \n",
    "    K.clear_session()\n",
    "    gc.collect()\n",
    "    del model\n",
    "    \n",
    "    return {'loss': acc, 'status': STATUS_OK}\n"
   ]
  },
  {
   "cell_type": "code",
   "execution_count": 5,
   "metadata": {},
   "outputs": [
    {
     "name": "stdout",
     "output_type": "stream",
     "text": [
      ">>> Imports:\n",
      "#coding=utf-8\n",
      "\n",
      "from __future__ import print_function\n",
      "\n",
      "try:\n",
      "    import pandas as pd\n",
      "except:\n",
      "    pass\n",
      "\n",
      "try:\n",
      "    import numpy as np\n",
      "except:\n",
      "    pass\n",
      "\n",
      "try:\n",
      "    import keras.backend as K\n",
      "except:\n",
      "    pass\n",
      "\n",
      "try:\n",
      "    from keras.models import Model\n",
      "except:\n",
      "    pass\n",
      "\n",
      "try:\n",
      "    from keras.layers import Dense, Input, Conv2D, LSTM, MaxPool2D, UpSampling2D, Flatten, Dropout, concatenate, GlobalAveragePooling2D, AveragePooling2D, Activation, Add, LeakyReLU, PReLU, ELU, ReLU, ThresholdedReLU\n",
      "except:\n",
      "    pass\n",
      "\n",
      "try:\n",
      "    from keras.layers.normalization import BatchNormalization\n",
      "except:\n",
      "    pass\n",
      "\n",
      "try:\n",
      "    from keras.activations import relu\n",
      "except:\n",
      "    pass\n",
      "\n",
      "try:\n",
      "    from keras.callbacks import EarlyStopping, LearningRateScheduler, ModelCheckpoint, ReduceLROnPlateau\n",
      "except:\n",
      "    pass\n",
      "\n",
      "try:\n",
      "    from keras.utils import to_categorical\n",
      "except:\n",
      "    pass\n",
      "\n",
      "try:\n",
      "    from keras.regularizers import l2\n",
      "except:\n",
      "    pass\n",
      "\n",
      "try:\n",
      "    from keras.models import Model\n",
      "except:\n",
      "    pass\n",
      "\n",
      "try:\n",
      "    from keras.initializers import glorot_uniform, Constant\n",
      "except:\n",
      "    pass\n",
      "\n",
      "try:\n",
      "    from keras import optimizers\n",
      "except:\n",
      "    pass\n",
      "\n",
      "try:\n",
      "    from keras.preprocessing.image import img_to_array, array_to_img\n",
      "except:\n",
      "    pass\n",
      "\n",
      "try:\n",
      "    from keras.optimizers import Optimizer\n",
      "except:\n",
      "    pass\n",
      "\n",
      "try:\n",
      "    from keras.utils.generic_utils import get_custom_objects\n",
      "except:\n",
      "    pass\n",
      "\n",
      "try:\n",
      "    from keras_tqdm import TQDMNotebookCallback\n",
      "except:\n",
      "    pass\n",
      "\n",
      "try:\n",
      "    from sklearn.model_selection import train_test_split\n",
      "except:\n",
      "    pass\n",
      "\n",
      "try:\n",
      "    from sklearn.metrics import accuracy_score\n",
      "except:\n",
      "    pass\n",
      "\n",
      "try:\n",
      "    from hyperopt import Trials, STATUS_OK, tpe\n",
      "except:\n",
      "    pass\n",
      "\n",
      "try:\n",
      "    import gc\n",
      "except:\n",
      "    pass\n",
      "\n",
      "try:\n",
      "    from hyperas import optim\n",
      "except:\n",
      "    pass\n",
      "\n",
      "try:\n",
      "    from hyperas.distributions import choice, uniform, lognormal, normal, loguniform\n",
      "except:\n",
      "    pass\n",
      "\n",
      "try:\n",
      "    from hyperas.distributions import uniform\n",
      "except:\n",
      "    pass\n",
      "\n",
      ">>> Hyperas search space:\n",
      "\n",
      "def get_space():\n",
      "    return {\n",
      "        'architecture': hp.choice('architecture', [(22,8), (28,10), (40,4)]),\n",
      "        'activation': hp.choice('activation', [ReLU, LeakyReLU, PReLU, ELU, ThresholdedReLU]),\n",
      "        'initializer': hp.choice('initializer', ['he_uniform', 'he_normal', 'glorot_uniform', 'glorot_normal']),\n",
      "        'dropout': hp.uniform('dropout', 0, 0.5),\n",
      "        'dropout_1': hp.uniform('dropout_1', -3, 0),\n",
      "        'opt': hp.choice('opt', [optimizers.Adam, optimizers.RMSprop, optimizers.Adadelta, optimizers.Nadam, optimizers.Adamax]),\n",
      "        'batch': hp.choice('batch', [32, 64]),\n",
      "        'batch_1': hp.choice('batch_1', [32, 64, 128]),\n",
      "    }\n",
      "\n",
      ">>> Functions\n",
      "   1: def main_block(x, filters, n, strides, activation, initializer, dropout):\n",
      "   2:     # Normal part\n",
      "   3:     x_res = Conv2D(filters, (3,3), strides=strides, padding=\"same\", kernel_initializer=initializer, kernel_regularizer=l2(5e-4))(x)\n",
      "   4:     x_res = BatchNormalization()(x_res)\n",
      "   5:     x_res = activation()(x_res)\n",
      "   6:     x_res = Conv2D(filters, (3,3), padding=\"same\", kernel_initializer=initializer)(x_res)\n",
      "   7:     # Alternative branch\n",
      "   8:     x = Conv2D(filters, (1,1), strides=strides)(x)\n",
      "   9:     # Merge Branches\n",
      "  10:     x = Add()([x_res, x])\n",
      "  11: \n",
      "  12:     for i in range(n-1):\n",
      "  13:         # Residual conection\n",
      "  14:         x_res = BatchNormalization()(x)\n",
      "  15:         x_res = activation()(x_res)\n",
      "  16:         x_res = Conv2D(filters, (3,3), padding=\"same\", kernel_initializer=initializer)(x_res)\n",
      "  17:         # Apply dropout if given\n",
      "  18:         if dropout: x_res = Dropout(rate=dropout)(x)\n",
      "  19:         # Second part\n",
      "  20:         x_res = BatchNormalization()(x_res)\n",
      "  21:         x_res = activation()(x_res)\n",
      "  22:         x_res = Conv2D(filters, (3,3), padding=\"same\", kernel_initializer=initializer)(x_res)\n",
      "  23:         # Merge branches\n",
      "  24:         x = Add()([x, x_res])\n",
      "  25: \n",
      "  26:     # Inter block part\n",
      "  27:     x = BatchNormalization()(x)\n",
      "  28:     x = activation()(x)\n",
      "  29:     return x\n",
      "  30: \n",
      "  31: def build_model(input_dims, output_dim, n, k, activation, initializer, dropout=None):\n",
      "  32:     assert (n-4)%6 == 0\n",
      "  33:     assert k%2 == 0\n",
      "  34:     n = (n-4)//6 \n",
      "  35:     \n",
      "  36:     #1)Input\n",
      "  37:     inputs = Input(shape=(input_dims))\n",
      "  38: \n",
      "  39:     #2)Initial part\n",
      "  40:     x = Conv2D(16, (3,3), padding=\"same\", kernel_initializer=initializer)(inputs)\n",
      "  41:     x = BatchNormalization()(x)\n",
      "  42:     x = activation()(x)\n",
      "  43: \n",
      "  44:     #3)wide blocks (can be made into for loop)\n",
      "  45:     x = main_block(x, 16*k, n, (1,1), activation, initializer, dropout)\n",
      "  46:     x = main_block(x, 32*k, n, (2,2), activation, initializer, dropout)\n",
      "  47:     x = main_block(x, 64*k, n, (2,2), activation, initializer, dropout)\n",
      "  48: \n",
      "  49:     #4)Final part\n",
      "  50:     x = AveragePooling2D((7,7))(x)\n",
      "  51:     x = Flatten()(x)\n",
      "  52:     outputs = Dense(output_dim, activation=\"softmax\")(x)\n",
      "  53: \n",
      "  54:     model = Model(inputs=inputs, outputs=outputs)\n",
      "  55:     return model\n",
      "  56: \n",
      "  57: \n",
      ">>> Data\n",
      "  1: \n",
      "  2: nb_classes = 10\n",
      "  3: # the data, shuffled and split between train and test sets\n",
      "  4: train = pd.read_csv(\"data/fashion/fashion-mnist_train.csv\")\n",
      "  5: test = pd.read_csv(\"data/fashion/fashion-mnist_test.csv\")\n",
      "  6: \n",
      "  7: train_x = train[list(train.columns)[1:]].values\n",
      "  8: train_y = train['label'].values\n",
      "  9: test_x = test[list(test.columns)[1:]].values\n",
      " 10: test_y = test['label'].values\n",
      " 11: \n",
      " 12: train_x=train_x.reshape(60000,28,28,1)\n",
      " 13: test_x=test_x.reshape(10000,28,28,1)\n",
      " 14: \n",
      " 15: train_y = to_categorical(train_y, num_classes = 10)\n",
      " 16: test_y = to_categorical(test_y, num_classes = 10)\n",
      " 17: \n",
      " 18: train_x, val_x, train_y, val_y = train_test_split(train_x, train_y, test_size=int(train_x.shape[0]/5))\n",
      " 19: \n",
      " 20: \n",
      " 21: train_x = train_x / 255\n",
      " 22: val_x = val_x / 255\n",
      " 23: test_x = test_x / 255\n",
      " 24: \n",
      " 25: \n",
      " 26: \n",
      " 27: \n",
      ">>> Resulting replaced keras model:\n",
      "\n",
      "   1: def keras_fmin_fnct(space):\n",
      "   2: \n",
      "   3:     architecture=space['architecture']\n",
      "   4:     activation=space['activation']\n",
      "   5:     initializer=space['initializer']\n",
      "   6:     dropout=space['dropout']\n",
      "   7:     \n",
      "   8:     learning_rate=10**space['dropout_1']\n",
      "   9:     opt=space['opt']\n",
      "  10:     if architecture[0]==28:\n",
      "  11:         batch=space['batch']\n",
      "  12:     else:\n",
      "  13:         batch=space['batch_1']\n",
      "  14:     \n",
      "  15:     \n",
      "  16:     print(\"\"\"\n",
      "  17:           Hyperparameters Used \\n\\n\\n\n",
      "  18:           -----------------------------\n",
      "  19:           model: ({},{})\n",
      "  20:           activation: {}\n",
      "  21:           initializer: {}\n",
      "  22:           dropout: {}\n",
      "  23:           learning rate: {}\n",
      "  24:           optimizer: {}\n",
      "  25:           batch size: {}\n",
      "  26:           -----------------------------\n",
      "  27:           \"\"\"\n",
      "  28:           .format(architecture[0], architecture[1], activation, initializer, dropout, learning_rate, opt, batch))\n",
      "  29:     \n",
      "  30:     model = build_model((28,28,1), 10, architecture[0], architecture[1], activation, initializer, dropout)\n",
      "  31:     \n",
      "  32:     callbacks = [EarlyStopping(monitor='val_loss', patience=5, verbose=0),\n",
      "  33:                  ModelCheckpoint(filepath='best_model.h5', monitor='val_loss', save_best_only=True, verbose=0),\n",
      "  34:                  ReduceLROnPlateau(monitor='val_acc', patience=3, verbose=1, factor=0.5,min_lr=0.00001),\n",
      "  35:                  TQDMNotebookCallback()]\n",
      "  36: \n",
      "  37:     model.compile(optimizer=opt(lr=learning_rate), loss='categorical_crossentropy', metrics=['accuracy'])\n",
      "  38:     model.fit(train_x, train_y, validation_data = (val_x, val_y), callbacks=callbacks, batch_size=batch, epochs=1, verbose=0)\n",
      "  39: \n",
      "  40:     score, acc = model.evaluate(test_x, test_y, verbose=0)\n",
      "  41:     \n",
      "  42:     y_val_pred = model.predict(val_x)\n",
      "  43:     print(\"Validation accuracy: \", accuracy_score(np.argmax(val_y, axis=1), np.argmax(y_val_pred, axis=1)))\n",
      "  44:     \n",
      "  45:     y_test_pred = model.predict(test_x)\n",
      "  46:     print(\"Test accuracy: \", accuracy_score(np.argmax(test_y, axis=1), np.argmax(y_test_pred, axis=1)), \"\\n\\n\")\n",
      "  47:     \n",
      "  48:     K.clear_session()\n",
      "  49:     gc.collect()\n",
      "  50:     del model\n",
      "  51:     \n",
      "  52:     return {'loss': acc, 'status': STATUS_OK}\n",
      "  53: \n",
      "                                                    \n",
      "          Hyperparameters Used \n",
      "\n",
      "\n",
      "\n",
      "          -----------------------------\n",
      "          model: (40,4)\n",
      "          activation: <class 'keras.layers.advanced_activations.LeakyReLU'>\n",
      "          initializer: he_uniform\n",
      "          dropout: 0.3671073489296299\n",
      "          learning rate: 0.11956858863562932\n",
      "          optimizer: <class 'keras.optimizers.RMSprop'>\n",
      "          batch size: 64\n",
      "          -----------------------------\n"
     ]
    },
    {
     "name": "stdout",
     "output_type": "stream",
     "text": [
      "          \n",
      "  0%|          | 0/20 [00:00<?, ?it/s, best loss: ?]WARNING:tensorflow:From C:\\Users\\Infernal\\AppData\\Local\\Continuum\\anaconda3\\envs\\tensorflow\\lib\\site-packages\\tensorflow\\python\\framework\\op_def_library.py:263: colocate_with (from tensorflow.python.framework.ops) is deprecated and will be removed in a future version.\n",
      "Instructions for updating:\n",
      "Colocations handled automatically by placer.\n",
      "WARNING:tensorflow:From C:\\Users\\Infernal\\AppData\\Local\\Continuum\\anaconda3\\envs\\tensorflow\\lib\\site-packages\\keras\\backend\\tensorflow_backend.py:3445: calling dropout (from tensorflow.python.ops.nn_ops) with keep_prob is deprecated and will be removed in a future version.\n",
      "Instructions for updating:\n",
      "Please use `rate` instead of `keep_prob`. Rate should be set to `rate = 1 - keep_prob`.\n",
      "WARNING:tensorflow:From C:\\Users\\Infernal\\AppData\\Local\\Continuum\\anaconda3\\envs\\tensorflow\\lib\\site-packages\\tensorflow\\python\\ops\\math_ops.py:3066: to_int32 (from tensorflow.python.ops.math_ops) is deprecated and will be removed in a future version.\n",
      "Instructions for updating:\n",
      "Use tf.cast instead.\n"
     ]
    },
    {
     "data": {
      "application/vnd.jupyter.widget-view+json": {
       "model_id": "ce4cb346fffa471ebc4f6cfca3e7840d",
       "version_major": 2,
       "version_minor": 0
      },
      "text/plain": [
       "HBox(children=(IntProgress(value=0, description='Training', max=1, style=ProgressStyle(description_width='init…"
      ]
     },
     "metadata": {},
     "output_type": "display_data"
    },
    {
     "data": {
      "application/vnd.jupyter.widget-view+json": {
       "model_id": "",
       "version_major": 2,
       "version_minor": 0
      },
      "text/plain": [
       "HBox(children=(IntProgress(value=0, description='Epoch 0', max=48000, style=ProgressStyle(description_width='i…"
      ]
     },
     "metadata": {},
     "output_type": "display_data"
    },
    {
     "name": "stdout",
     "output_type": "stream",
     "text": [
      "Validation accuracy:                                \n",
      "0.3365                                              \n",
      "Test accuracy:                                      \n",
      "0.3352                                              \n",
      "                                                                  \n",
      "          Hyperparameters Used \n",
      "\n",
      "\n",
      "\n",
      "          -----------------------------\n",
      "          model: (40,4)\n",
      "          activation: <class 'keras.layers.advanced_activations.LeakyReLU'>\n",
      "          initializer: glorot_uniform\n",
      "          dropout: 0.41833334235579095\n",
      "          learning rate: 0.5476313990663524\n",
      "          optimizer: <class 'keras.optimizers.Adamax'>\n",
      "          batch size: 128\n",
      "          -----------------------------\n",
      "          \n",
      "  5%|▌         | 1/20 [02:37<49:51, 157.47s/it, best loss: 0.3352]"
     ]
    },
    {
     "data": {
      "application/vnd.jupyter.widget-view+json": {
       "model_id": "7ad05d8db0804a7bb1c7dfe23472b964",
       "version_major": 2,
       "version_minor": 0
      },
      "text/plain": [
       "HBox(children=(IntProgress(value=0, description='Training', max=1, style=ProgressStyle(description_width='init…"
      ]
     },
     "metadata": {},
     "output_type": "display_data"
    },
    {
     "data": {
      "application/vnd.jupyter.widget-view+json": {
       "model_id": "",
       "version_major": 2,
       "version_minor": 0
      },
      "text/plain": [
       "HBox(children=(IntProgress(value=0, description='Epoch 0', max=48000, style=ProgressStyle(description_width='i…"
      ]
     },
     "metadata": {},
     "output_type": "display_data"
    },
    {
     "name": "stdout",
     "output_type": "stream",
     "text": [
      "Validation accuracy:                                              \n",
      "0.09825                                                           \n",
      "Test accuracy:                                                    \n",
      "0.1                                                               \n",
      "                                                                  \n",
      "          Hyperparameters Used \n",
      "\n",
      "\n",
      "\n",
      "          -----------------------------\n",
      "          model: (28,10)\n",
      "          activation: <class 'keras.layers.advanced_activations.ThresholdedReLU'>\n",
      "          initializer: glorot_uniform\n",
      "          dropout: 0.23634271098298437\n",
      "          learning rate: 0.152291090611222\n",
      "          optimizer: <class 'keras.optimizers.Adadelta'>\n",
      "          batch size: 32\n",
      "          -----------------------------\n",
      "          \n",
      " 10%|█         | 2/20 [05:00<45:57, 153.19s/it, best loss: 0.1]"
     ]
    },
    {
     "data": {
      "application/vnd.jupyter.widget-view+json": {
       "model_id": "a0fb9383d4834597a43128a9f524167d",
       "version_major": 2,
       "version_minor": 0
      },
      "text/plain": [
       "HBox(children=(IntProgress(value=0, description='Training', max=1, style=ProgressStyle(description_width='init…"
      ]
     },
     "metadata": {},
     "output_type": "display_data"
    },
    {
     "data": {
      "application/vnd.jupyter.widget-view+json": {
       "model_id": "",
       "version_major": 2,
       "version_minor": 0
      },
      "text/plain": [
       "HBox(children=(IntProgress(value=0, description='Epoch 0', max=48000, style=ProgressStyle(description_width='i…"
      ]
     },
     "metadata": {},
     "output_type": "display_data"
    },
    {
     "name": "stdout",
     "output_type": "stream",
     "text": [
      "Validation accuracy:                                           \n",
      "0.809                                                          \n",
      "Test accuracy:                                                 \n",
      "0.8085                                                         \n",
      "                                                                 \n",
      "          Hyperparameters Used \n",
      "\n",
      "\n",
      "\n",
      "          -----------------------------\n",
      "          model: (28,10)\n",
      "          activation: <class 'keras.layers.advanced_activations.LeakyReLU'>\n",
      "          initializer: glorot_uniform\n",
      "          dropout: 0.4956006935248156\n",
      "          learning rate: 0.19672068575140908\n",
      "          optimizer: <class 'keras.optimizers.RMSprop'>\n",
      "          batch size: 32\n",
      "          -----------------------------\n",
      "          \n",
      " 15%|█▌        | 3/20 [12:09<1:06:50, 235.91s/it, best loss: 0.1]"
     ]
    },
    {
     "data": {
      "application/vnd.jupyter.widget-view+json": {
       "model_id": "d71c204951724c008819292d4019eecc",
       "version_major": 2,
       "version_minor": 0
      },
      "text/plain": [
       "HBox(children=(IntProgress(value=0, description='Training', max=1, style=ProgressStyle(description_width='init…"
      ]
     },
     "metadata": {},
     "output_type": "display_data"
    },
    {
     "data": {
      "application/vnd.jupyter.widget-view+json": {
       "model_id": "",
       "version_major": 2,
       "version_minor": 0
      },
      "text/plain": [
       "HBox(children=(IntProgress(value=0, description='Epoch 0', max=48000, style=ProgressStyle(description_width='i…"
      ]
     },
     "metadata": {},
     "output_type": "display_data"
    },
    {
     "name": "stdout",
     "output_type": "stream",
     "text": [
      "Validation accuracy:                                             \n",
      "0.10266666666666667                                              \n",
      "Test accuracy:                                                   \n",
      "0.1                                                              \n",
      "                                                                 \n",
      "          Hyperparameters Used \n",
      "\n",
      "\n",
      "\n",
      "          -----------------------------\n",
      "          model: (40,4)\n",
      "          activation: <class 'keras.layers.advanced_activations.ELU'>\n",
      "          initializer: he_uniform\n",
      "          dropout: 0.18731750208370335\n",
      "          learning rate: 0.05642800497823967\n",
      "          optimizer: <class 'keras.optimizers.Nadam'>\n",
      "          batch size: 128\n",
      "          -----------------------------\n",
      "          \n",
      " 20%|██        | 4/20 [18:51<1:16:12, 285.80s/it, best loss: 0.1]"
     ]
    },
    {
     "data": {
      "application/vnd.jupyter.widget-view+json": {
       "model_id": "bac6894716f046f2b79805778e0cab43",
       "version_major": 2,
       "version_minor": 0
      },
      "text/plain": [
       "HBox(children=(IntProgress(value=0, description='Training', max=1, style=ProgressStyle(description_width='init…"
      ]
     },
     "metadata": {},
     "output_type": "display_data"
    },
    {
     "data": {
      "application/vnd.jupyter.widget-view+json": {
       "model_id": "",
       "version_major": 2,
       "version_minor": 0
      },
      "text/plain": [
       "HBox(children=(IntProgress(value=0, description='Epoch 0', max=48000, style=ProgressStyle(description_width='i…"
      ]
     },
     "metadata": {},
     "output_type": "display_data"
    },
    {
     "name": "stdout",
     "output_type": "stream",
     "text": [
      "Validation accuracy:                                             \n",
      "0.22291666666666668                                              \n",
      "Test accuracy:                                                   \n",
      "0.2179                                                           \n",
      "                                                                 \n",
      "          Hyperparameters Used \n",
      "\n",
      "\n",
      "\n",
      "          -----------------------------\n",
      "          model: (22,8)\n",
      "          activation: <class 'keras.layers.advanced_activations.ELU'>\n",
      "          initializer: glorot_normal\n",
      "          dropout: 0.3441846753708239\n",
      "          learning rate: 0.03834417314740441\n",
      "          optimizer: <class 'keras.optimizers.Adadelta'>\n",
      "          batch size: 32\n",
      "          -----------------------------\n",
      "          \n",
      " 25%|██▌       | 5/20 [21:12<1:00:36, 242.42s/it, best loss: 0.1]"
     ]
    },
    {
     "data": {
      "application/vnd.jupyter.widget-view+json": {
       "model_id": "ec8cc5a5cfb54c7bb5b58f75b3a32eb2",
       "version_major": 2,
       "version_minor": 0
      },
      "text/plain": [
       "HBox(children=(IntProgress(value=0, description='Training', max=1, style=ProgressStyle(description_width='init…"
      ]
     },
     "metadata": {},
     "output_type": "display_data"
    },
    {
     "data": {
      "application/vnd.jupyter.widget-view+json": {
       "model_id": "",
       "version_major": 2,
       "version_minor": 0
      },
      "text/plain": [
       "HBox(children=(IntProgress(value=0, description='Epoch 0', max=48000, style=ProgressStyle(description_width='i…"
      ]
     },
     "metadata": {},
     "output_type": "display_data"
    },
    {
     "name": "stdout",
     "output_type": "stream",
     "text": [
      "Validation accuracy:                                             \n",
      "0.8183333333333334                                               \n",
      "Test accuracy:                                                   \n",
      "0.8234                                                           \n",
      "                                                                 \n",
      "          Hyperparameters Used \n",
      "\n",
      "\n",
      "\n",
      "          -----------------------------\n",
      "          model: (22,8)\n",
      "          activation: <class 'keras.layers.advanced_activations.LeakyReLU'>\n",
      "          initializer: glorot_normal\n",
      "          dropout: 0.16675696804070678\n",
      "          learning rate: 0.002069768982262119\n",
      "          optimizer: <class 'keras.optimizers.Nadam'>\n",
      "          batch size: 128\n",
      "          -----------------------------\n",
      "          \n",
      " 30%|███       | 6/20 [25:00<55:32, 238.05s/it, best loss: 0.1]"
     ]
    },
    {
     "data": {
      "application/vnd.jupyter.widget-view+json": {
       "model_id": "ed9c23a288ab4dfba8590b713a9e8645",
       "version_major": 2,
       "version_minor": 0
      },
      "text/plain": [
       "HBox(children=(IntProgress(value=0, description='Training', max=1, style=ProgressStyle(description_width='init…"
      ]
     },
     "metadata": {},
     "output_type": "display_data"
    },
    {
     "data": {
      "application/vnd.jupyter.widget-view+json": {
       "model_id": "",
       "version_major": 2,
       "version_minor": 0
      },
      "text/plain": [
       "HBox(children=(IntProgress(value=0, description='Epoch 0', max=48000, style=ProgressStyle(description_width='i…"
      ]
     },
     "metadata": {},
     "output_type": "display_data"
    },
    {
     "name": "stdout",
     "output_type": "stream",
     "text": [
      "Validation accuracy:                                           \n",
      "0.47475                                                        \n",
      "Test accuracy:                                                 \n",
      "0.4744                                                         \n",
      "                                                               \n",
      "          Hyperparameters Used \n",
      "\n",
      "\n",
      "\n",
      "          -----------------------------\n",
      "          model: (40,4)\n",
      "          activation: <class 'keras.layers.advanced_activations.ReLU'>\n",
      "          initializer: he_normal\n",
      "          dropout: 0.1294929579149945\n",
      "          learning rate: 0.001763603054695011\n",
      "          optimizer: <class 'keras.optimizers.Adadelta'>\n",
      "          batch size: 32\n",
      "          -----------------------------\n",
      "          \n",
      " 35%|███▌      | 7/20 [28:08<48:19, 223.03s/it, best loss: 0.1]"
     ]
    },
    {
     "data": {
      "application/vnd.jupyter.widget-view+json": {
       "model_id": "85bfa71f897a4c51a7ac0ab15a2dbfdb",
       "version_major": 2,
       "version_minor": 0
      },
      "text/plain": [
       "HBox(children=(IntProgress(value=0, description='Training', max=1, style=ProgressStyle(description_width='init…"
      ]
     },
     "metadata": {},
     "output_type": "display_data"
    },
    {
     "data": {
      "application/vnd.jupyter.widget-view+json": {
       "model_id": "",
       "version_major": 2,
       "version_minor": 0
      },
      "text/plain": [
       "HBox(children=(IntProgress(value=0, description='Epoch 0', max=48000, style=ProgressStyle(description_width='i…"
      ]
     },
     "metadata": {},
     "output_type": "display_data"
    },
    {
     "name": "stdout",
     "output_type": "stream",
     "text": [
      "Validation accuracy:                                           \n",
      "0.5718333333333333                                             \n",
      "Test accuracy:                                                 \n",
      "0.5817                                                         \n",
      "                                                               \n",
      "          Hyperparameters Used \n",
      "\n",
      "\n",
      "\n",
      "          -----------------------------\n",
      "          model: (28,10)\n",
      "          activation: <class 'keras.layers.advanced_activations.LeakyReLU'>\n",
      "          initializer: glorot_normal\n",
      "          dropout: 0.2218773160973102\n",
      "          learning rate: 0.5315050223684199\n",
      "          optimizer: <class 'keras.optimizers.Adamax'>\n",
      "          batch size: 64\n",
      "          -----------------------------\n",
      "          \n",
      " 40%|████      | 8/20 [31:01<41:36, 208.03s/it, best loss: 0.1]"
     ]
    },
    {
     "data": {
      "application/vnd.jupyter.widget-view+json": {
       "model_id": "ee04c5a4ea5d4249adf3887bda6ed68f",
       "version_major": 2,
       "version_minor": 0
      },
      "text/plain": [
       "HBox(children=(IntProgress(value=0, description='Training', max=1, style=ProgressStyle(description_width='init…"
      ]
     },
     "metadata": {},
     "output_type": "display_data"
    },
    {
     "data": {
      "application/vnd.jupyter.widget-view+json": {
       "model_id": "",
       "version_major": 2,
       "version_minor": 0
      },
      "text/plain": [
       "HBox(children=(IntProgress(value=0, description='Epoch 0', max=48000, style=ProgressStyle(description_width='i…"
      ]
     },
     "metadata": {},
     "output_type": "display_data"
    },
    {
     "name": "stdout",
     "output_type": "stream",
     "text": [
      "Validation accuracy:                                           \n",
      "0.09708333333333333                                            \n",
      "Test accuracy:                                                 \n",
      "0.1                                                            \n",
      "                                                               \n",
      "          Hyperparameters Used \n",
      "\n",
      "\n",
      "\n",
      "          -----------------------------\n",
      "          model: (40,4)\n",
      "          activation: <class 'keras.layers.advanced_activations.ReLU'>\n",
      "          initializer: glorot_normal\n",
      "          dropout: 0.06045109560475492\n",
      "          learning rate: 0.004250140049210174\n",
      "          optimizer: <class 'keras.optimizers.Adam'>\n",
      "          batch size: 32\n",
      "          -----------------------------\n",
      "          \n",
      " 45%|████▌     | 9/20 [36:54<46:06, 251.52s/it, best loss: 0.1]"
     ]
    },
    {
     "data": {
      "application/vnd.jupyter.widget-view+json": {
       "model_id": "21b16af4eb224a41b058b32c6200a2c2",
       "version_major": 2,
       "version_minor": 0
      },
      "text/plain": [
       "HBox(children=(IntProgress(value=0, description='Training', max=1, style=ProgressStyle(description_width='init…"
      ]
     },
     "metadata": {},
     "output_type": "display_data"
    },
    {
     "data": {
      "application/vnd.jupyter.widget-view+json": {
       "model_id": "",
       "version_major": 2,
       "version_minor": 0
      },
      "text/plain": [
       "HBox(children=(IntProgress(value=0, description='Epoch 0', max=48000, style=ProgressStyle(description_width='i…"
      ]
     },
     "metadata": {},
     "output_type": "display_data"
    },
    {
     "name": "stdout",
     "output_type": "stream",
     "text": [
      "Validation accuracy:                                           \n",
      "0.7886666666666666                                             \n",
      "Test accuracy:                                                 \n",
      "0.7859                                                         \n",
      "                                                                \n",
      "          Hyperparameters Used \n",
      "\n",
      "\n",
      "\n",
      "          -----------------------------\n",
      "          model: (40,4)\n",
      "          activation: <class 'keras.layers.advanced_activations.LeakyReLU'>\n",
      "          initializer: glorot_normal\n",
      "          dropout: 0.3101937889491447\n",
      "          learning rate: 0.002053022769964677\n",
      "          optimizer: <class 'keras.optimizers.RMSprop'>\n",
      "          batch size: 64\n",
      "          -----------------------------\n",
      "          \n",
      " 50%|█████     | 10/20 [39:42<37:44, 226.42s/it, best loss: 0.1]"
     ]
    },
    {
     "data": {
      "application/vnd.jupyter.widget-view+json": {
       "model_id": "205bf1a3d6fe4368a7b3f8d9a1365d15",
       "version_major": 2,
       "version_minor": 0
      },
      "text/plain": [
       "HBox(children=(IntProgress(value=0, description='Training', max=1, style=ProgressStyle(description_width='init…"
      ]
     },
     "metadata": {},
     "output_type": "display_data"
    },
    {
     "data": {
      "application/vnd.jupyter.widget-view+json": {
       "model_id": "",
       "version_major": 2,
       "version_minor": 0
      },
      "text/plain": [
       "HBox(children=(IntProgress(value=0, description='Epoch 0', max=48000, style=ProgressStyle(description_width='i…"
      ]
     },
     "metadata": {},
     "output_type": "display_data"
    },
    {
     "name": "stdout",
     "output_type": "stream",
     "text": [
      "Validation accuracy:                                            \n",
      "0.6015                                                          \n",
      "Test accuracy:                                                  \n",
      "0.6081                                                          \n",
      "                                                                \n",
      "          Hyperparameters Used \n",
      "\n",
      "\n",
      "\n",
      "          -----------------------------\n",
      "          model: (28,10)\n",
      "          activation: <class 'keras.layers.advanced_activations.PReLU'>\n",
      "          initializer: he_uniform\n",
      "          dropout: 0.4728743661166381\n",
      "          learning rate: 0.17811407119462366\n",
      "          optimizer: <class 'keras.optimizers.RMSprop'>\n",
      "          batch size: 32\n",
      "          -----------------------------\n",
      "          \n",
      " 55%|█████▌    | 11/20 [42:18<30:46, 205.11s/it, best loss: 0.1]"
     ]
    },
    {
     "data": {
      "application/vnd.jupyter.widget-view+json": {
       "model_id": "c60b1d5a472445bea7a7bab8a5069894",
       "version_major": 2,
       "version_minor": 0
      },
      "text/plain": [
       "HBox(children=(IntProgress(value=0, description='Training', max=1, style=ProgressStyle(description_width='init…"
      ]
     },
     "metadata": {},
     "output_type": "display_data"
    },
    {
     "data": {
      "application/vnd.jupyter.widget-view+json": {
       "model_id": "",
       "version_major": 2,
       "version_minor": 0
      },
      "text/plain": [
       "HBox(children=(IntProgress(value=0, description='Epoch 0', max=48000, style=ProgressStyle(description_width='i…"
      ]
     },
     "metadata": {},
     "output_type": "display_data"
    },
    {
     "name": "stdout",
     "output_type": "stream",
     "text": [
      "Validation accuracy:                                            \n",
      "0.09975                                                         \n",
      "Test accuracy:                                                  \n",
      "0.1                                                             \n",
      "                                                                \n",
      "          Hyperparameters Used \n",
      "\n",
      "\n",
      "\n",
      "          -----------------------------\n",
      "          model: (28,10)\n",
      "          activation: <class 'keras.layers.advanced_activations.ELU'>\n",
      "          initializer: he_normal\n",
      "          dropout: 0.1881206313598095\n",
      "          learning rate: 0.13061110142649793\n",
      "          optimizer: <class 'keras.optimizers.Nadam'>\n",
      "          batch size: 32\n",
      "          -----------------------------\n",
      "          \n",
      " 60%|██████    | 12/20 [49:55<37:26, 280.81s/it, best loss: 0.1]"
     ]
    },
    {
     "data": {
      "application/vnd.jupyter.widget-view+json": {
       "model_id": "c14d3d98463148dfa090daa6eaf5bdec",
       "version_major": 2,
       "version_minor": 0
      },
      "text/plain": [
       "HBox(children=(IntProgress(value=0, description='Training', max=1, style=ProgressStyle(description_width='init…"
      ]
     },
     "metadata": {},
     "output_type": "display_data"
    },
    {
     "data": {
      "application/vnd.jupyter.widget-view+json": {
       "model_id": "",
       "version_major": 2,
       "version_minor": 0
      },
      "text/plain": [
       "HBox(children=(IntProgress(value=0, description='Epoch 0', max=48000, style=ProgressStyle(description_width='i…"
      ]
     },
     "metadata": {},
     "output_type": "display_data"
    },
    {
     "name": "stdout",
     "output_type": "stream",
     "text": [
      "Validation accuracy:                                            \n",
      "0.09975                                                         \n",
      "Test accuracy:                                                  \n",
      "0.1                                                             \n",
      "                                                                \n",
      "          Hyperparameters Used \n",
      "\n",
      "\n",
      "\n",
      "          -----------------------------\n",
      "          model: (22,8)\n",
      "          activation: <class 'keras.layers.advanced_activations.ThresholdedReLU'>\n",
      "          initializer: he_normal\n",
      "          dropout: 0.35511546324589943\n",
      "          learning rate: 0.02386034189806634\n",
      "          optimizer: <class 'keras.optimizers.Adam'>\n",
      "          batch size: 128\n",
      "          -----------------------------\n",
      "          \n",
      " 65%|██████▌   | 13/20 [56:49<37:25, 320.74s/it, best loss: 0.1]"
     ]
    },
    {
     "data": {
      "application/vnd.jupyter.widget-view+json": {
       "model_id": "dd962b258c1b48f09bab937dd4ab77fc",
       "version_major": 2,
       "version_minor": 0
      },
      "text/plain": [
       "HBox(children=(IntProgress(value=0, description='Training', max=1, style=ProgressStyle(description_width='init…"
      ]
     },
     "metadata": {},
     "output_type": "display_data"
    },
    {
     "data": {
      "application/vnd.jupyter.widget-view+json": {
       "model_id": "",
       "version_major": 2,
       "version_minor": 0
      },
      "text/plain": [
       "HBox(children=(IntProgress(value=0, description='Epoch 0', max=48000, style=ProgressStyle(description_width='i…"
      ]
     },
     "metadata": {},
     "output_type": "display_data"
    },
    {
     "name": "stdout",
     "output_type": "stream",
     "text": [
      "Validation accuracy:                                            \n",
      "0.401                                                           \n",
      "Test accuracy:                                                  \n",
      "0.3948                                                          \n",
      "                                                                \n",
      "          Hyperparameters Used \n",
      "\n",
      "\n",
      "\n",
      "          -----------------------------\n",
      "          model: (40,4)\n",
      "          activation: <class 'keras.layers.advanced_activations.ELU'>\n",
      "          initializer: glorot_normal\n",
      "          dropout: 0.4434873842569261\n",
      "          learning rate: 0.001607339070391134\n",
      "          optimizer: <class 'keras.optimizers.RMSprop'>\n",
      "          batch size: 64\n",
      "          -----------------------------\n",
      "          \n",
      " 70%|███████   | 14/20 [59:49<27:50, 278.43s/it, best loss: 0.1]"
     ]
    },
    {
     "data": {
      "application/vnd.jupyter.widget-view+json": {
       "model_id": "ca3766766df247bfaed003ef20ab422d",
       "version_major": 2,
       "version_minor": 0
      },
      "text/plain": [
       "HBox(children=(IntProgress(value=0, description='Training', max=1, style=ProgressStyle(description_width='init…"
      ]
     },
     "metadata": {},
     "output_type": "display_data"
    },
    {
     "data": {
      "application/vnd.jupyter.widget-view+json": {
       "model_id": "",
       "version_major": 2,
       "version_minor": 0
      },
      "text/plain": [
       "HBox(children=(IntProgress(value=0, description='Epoch 0', max=48000, style=ProgressStyle(description_width='i…"
      ]
     },
     "metadata": {},
     "output_type": "display_data"
    },
    {
     "name": "stdout",
     "output_type": "stream",
     "text": [
      "Validation accuracy:                                            \n",
      "0.7695833333333333                                                \n",
      "Test accuracy:                                                    \n",
      "0.7764                                                            \n",
      "                                                                  \n",
      "          Hyperparameters Used \n",
      "\n",
      "\n",
      "\n",
      "          -----------------------------\n",
      "          model: (28,10)\n",
      "          activation: <class 'keras.layers.advanced_activations.ELU'>\n",
      "          initializer: he_normal\n",
      "          dropout: 0.45628105943107194\n",
      "          learning rate: 0.003616220515909508\n",
      "          optimizer: <class 'keras.optimizers.RMSprop'>\n",
      "          batch size: 32\n",
      "          -----------------------------\n",
      "          \n",
      " 75%|███████▌  | 15/20 [1:02:14<19:51, 238.35s/it, best loss: 0.1]"
     ]
    },
    {
     "data": {
      "application/vnd.jupyter.widget-view+json": {
       "model_id": "b212c052a69e466fb7da46ad4c2e9137",
       "version_major": 2,
       "version_minor": 0
      },
      "text/plain": [
       "HBox(children=(IntProgress(value=0, description='Training', max=1, style=ProgressStyle(description_width='init…"
      ]
     },
     "metadata": {},
     "output_type": "display_data"
    },
    {
     "data": {
      "application/vnd.jupyter.widget-view+json": {
       "model_id": "",
       "version_major": 2,
       "version_minor": 0
      },
      "text/plain": [
       "HBox(children=(IntProgress(value=0, description='Epoch 0', max=48000, style=ProgressStyle(description_width='i…"
      ]
     },
     "metadata": {},
     "output_type": "display_data"
    },
    {
     "name": "stdout",
     "output_type": "stream",
     "text": [
      "Validation accuracy:                                              \n",
      "0.5960833333333333                                                \n",
      "Test accuracy:                                                    \n",
      "0.6041                                                            \n",
      "                                                                  \n",
      "          Hyperparameters Used \n",
      "\n",
      "\n",
      "\n",
      "          -----------------------------\n",
      "          model: (28,10)\n",
      "          activation: <class 'keras.layers.advanced_activations.ThresholdedReLU'>\n",
      "          initializer: he_normal\n",
      "          dropout: 0.005545311659215679\n",
      "          learning rate: 0.47370813020083036\n",
      "          optimizer: <class 'keras.optimizers.RMSprop'>\n",
      "          batch size: 64\n",
      "          -----------------------------\n",
      "          \n",
      " 80%|████████  | 16/20 [1:08:48<19:00, 285.14s/it, best loss: 0.1]"
     ]
    },
    {
     "data": {
      "application/vnd.jupyter.widget-view+json": {
       "model_id": "01da5bb79bdb43e0bac90012cbce96d7",
       "version_major": 2,
       "version_minor": 0
      },
      "text/plain": [
       "HBox(children=(IntProgress(value=0, description='Training', max=1, style=ProgressStyle(description_width='init…"
      ]
     },
     "metadata": {},
     "output_type": "display_data"
    },
    {
     "data": {
      "application/vnd.jupyter.widget-view+json": {
       "model_id": "",
       "version_major": 2,
       "version_minor": 0
      },
      "text/plain": [
       "HBox(children=(IntProgress(value=0, description='Epoch 0', max=48000, style=ProgressStyle(description_width='i…"
      ]
     },
     "metadata": {},
     "output_type": "display_data"
    },
    {
     "name": "stdout",
     "output_type": "stream",
     "text": [
      "Validation accuracy:                                              \n",
      "0.09975                                                           \n",
      "Test accuracy:                                                    \n",
      "0.1                                                               \n",
      "                                                                  \n",
      "          Hyperparameters Used \n",
      "\n",
      "\n",
      "\n",
      "          -----------------------------\n",
      "          model: (40,4)\n",
      "          activation: <class 'keras.layers.advanced_activations.ThresholdedReLU'>\n",
      "          initializer: he_uniform\n",
      "          dropout: 0.27710396518920993\n",
      "          learning rate: 0.2844329399628118\n",
      "          optimizer: <class 'keras.optimizers.Nadam'>\n",
      "          batch size: 64\n",
      "          -----------------------------\n",
      "          \n",
      " 85%|████████▌ | 17/20 [1:14:33<15:09, 303.03s/it, best loss: 0.1]"
     ]
    },
    {
     "data": {
      "application/vnd.jupyter.widget-view+json": {
       "model_id": "43697c7d9d5a49c3a09f0af18366f318",
       "version_major": 2,
       "version_minor": 0
      },
      "text/plain": [
       "HBox(children=(IntProgress(value=0, description='Training', max=1, style=ProgressStyle(description_width='init…"
      ]
     },
     "metadata": {},
     "output_type": "display_data"
    },
    {
     "data": {
      "application/vnd.jupyter.widget-view+json": {
       "model_id": "",
       "version_major": 2,
       "version_minor": 0
      },
      "text/plain": [
       "HBox(children=(IntProgress(value=0, description='Epoch 0', max=48000, style=ProgressStyle(description_width='i…"
      ]
     },
     "metadata": {},
     "output_type": "display_data"
    },
    {
     "name": "stdout",
     "output_type": "stream",
     "text": [
      "Validation accuracy:                                              \n",
      "0.10266666666666667                                               \n",
      "Test accuracy:                                                    \n",
      "0.1                                                               \n",
      "                                                                  \n",
      "          Hyperparameters Used \n",
      "\n",
      "\n",
      "\n",
      "          -----------------------------\n",
      "          model: (40,4)\n",
      "          activation: <class 'keras.layers.advanced_activations.ELU'>\n",
      "          initializer: glorot_normal\n",
      "          dropout: 0.1820122957634046\n",
      "          learning rate: 0.004830278996280274\n",
      "          optimizer: <class 'keras.optimizers.Adamax'>\n",
      "          batch size: 64\n",
      "          -----------------------------\n",
      "          \n",
      " 90%|█████████ | 18/20 [1:17:12<08:40, 260.02s/it, best loss: 0.1]"
     ]
    },
    {
     "data": {
      "application/vnd.jupyter.widget-view+json": {
       "model_id": "a16d5bc744a8463dbc50a2f6abc080ac",
       "version_major": 2,
       "version_minor": 0
      },
      "text/plain": [
       "HBox(children=(IntProgress(value=0, description='Training', max=1, style=ProgressStyle(description_width='init…"
      ]
     },
     "metadata": {},
     "output_type": "display_data"
    },
    {
     "data": {
      "application/vnd.jupyter.widget-view+json": {
       "model_id": "",
       "version_major": 2,
       "version_minor": 0
      },
      "text/plain": [
       "HBox(children=(IntProgress(value=0, description='Epoch 0', max=48000, style=ProgressStyle(description_width='i…"
      ]
     },
     "metadata": {},
     "output_type": "display_data"
    },
    {
     "name": "stdout",
     "output_type": "stream",
     "text": [
      "Validation accuracy:                                              \n",
      "0.7711666666666667                                                \n",
      "Test accuracy:                                                    \n",
      "0.7755                                                            \n",
      "                                                                  \n",
      "          Hyperparameters Used \n",
      "\n",
      "\n",
      "\n",
      "          -----------------------------\n",
      "          model: (22,8)\n",
      "          activation: <class 'keras.layers.advanced_activations.PReLU'>\n",
      "          initializer: glorot_uniform\n",
      "          dropout: 0.27075464657505727\n",
      "          learning rate: 0.031570602270260095\n",
      "          optimizer: <class 'keras.optimizers.RMSprop'>\n",
      "          batch size: 64\n",
      "          -----------------------------\n",
      "          \n",
      " 95%|█████████▌| 19/20 [1:19:39<03:45, 225.91s/it, best loss: 0.1]"
     ]
    },
    {
     "data": {
      "application/vnd.jupyter.widget-view+json": {
       "model_id": "6cb21441d92c472cadaa3827e412b3ea",
       "version_major": 2,
       "version_minor": 0
      },
      "text/plain": [
       "HBox(children=(IntProgress(value=0, description='Training', max=1, style=ProgressStyle(description_width='init…"
      ]
     },
     "metadata": {},
     "output_type": "display_data"
    },
    {
     "data": {
      "application/vnd.jupyter.widget-view+json": {
       "model_id": "",
       "version_major": 2,
       "version_minor": 0
      },
      "text/plain": [
       "HBox(children=(IntProgress(value=0, description='Epoch 0', max=48000, style=ProgressStyle(description_width='i…"
      ]
     },
     "metadata": {},
     "output_type": "display_data"
    },
    {
     "name": "stdout",
     "output_type": "stream",
     "text": [
      "Validation accuracy:                                              \n",
      "0.792                                                             \n",
      "Test accuracy:                                                    \n",
      "0.7969                                                            \n",
      "100%|██████████| 20/20 [1:23:28<00:00, 226.88s/it, best loss: 0.1]\n",
      "Best run:  {'activation': 1, 'architecture': 2, 'batch': 0, 'batch_1': 2, 'dropout': 0.41833334235579095, 'dropout_1': -0.2615116590582889, 'initializer': 2, 'opt': 4}\n"
     ]
    }
   ],
   "source": [
    "if __name__ == '__main__':\n",
    "    functions=[main_block, build_model]\n",
    "\n",
    "    best_run, best_model = optim.minimize(model=model,\n",
    "                                          data=data,\n",
    "                                          functions=functions,\n",
    "                                          algo=tpe.suggest,\n",
    "                                          max_evals=20,\n",
    "                                          trials=Trials(),\n",
    "                                          notebook_name=\"WRN Hyperas\")\n",
    "\n",
    "    train_x, train_y, val_x, val_y, test_x, test_y = data()\n",
    "    print(\"Best run: \", best_run)"
   ]
  },
  {
   "cell_type": "code",
   "execution_count": null,
   "metadata": {},
   "outputs": [],
   "source": []
  }
 ],
 "metadata": {
  "kernelspec": {
   "display_name": "Python 3",
   "language": "python",
   "name": "python3"
  },
  "language_info": {
   "codemirror_mode": {
    "name": "ipython",
    "version": 3
   },
   "file_extension": ".py",
   "mimetype": "text/x-python",
   "name": "python",
   "nbconvert_exporter": "python",
   "pygments_lexer": "ipython3",
   "version": "3.6.8"
  }
 },
 "nbformat": 4,
 "nbformat_minor": 2
}
